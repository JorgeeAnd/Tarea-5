{
 "cells": [
  {
   "cell_type": "markdown",
   "id": "bdc60943",
   "metadata": {},
   "source": [
    "<img style=\"float: left; margin: 30px 15px 15px 15px;\" src=\"https://encrypted-tbn0.gstatic.com/images?q=tbn:ANd9GcTFzQj91sOlkeDFkg5HDbjtR4QJYmLXkfMNig&usqp=CAU\" width=\"400\" height=\"500\" /> \n",
    "    \n",
    "    \n",
    "### <font color='navy'> Simulación matemática. \n",
    "\n",
    "**Nombres:** Jorge Emilio Andrade Michel, Ramón Rojo Villalobos.\n",
    "\n",
    "**Fecha:** 02 de octubre del 2023.\n",
    "\n",
    "**Expediente** : 739973, 744371.\n",
    "    \n",
    "**Profesor:** Oscar David Jaramillo Zuluaga.\n",
    "\n",
    "# Tarea 5: Integración Montecarlo 1"
   ]
  },
  {
   "cell_type": "markdown",
   "id": "2351059b",
   "metadata": {},
   "source": [
    "## TAREA 5\n",
    "1. Realizar las siguientes integrales. Poner los resultados en una tabla cuyas filas correspondan a la cantidad de términos utilizados en la aproximación (usar 10, 100, 1000, 10000 y 100000 términos) y cuyas columnas correspondan a las funciones.\n",
    "    + $\\int_{1}^{5} \\log_{10}(2x)+8^x\\text{d}x$.\n",
    "    + $\\int_1^5 \\frac{2^x}{x^4} \\text{d}x$\n"
   ]
  },
  {
   "cell_type": "markdown",
   "id": "3385062c",
   "metadata": {},
   "source": [
    "Codigo 1"
   ]
  },
  {
   "cell_type": "code",
   "execution_count": null,
   "id": "e88e59c4",
   "metadata": {},
   "outputs": [],
   "source": [
    "import numpy as np\n",
    "import pandas as pd\n",
    "\n",
    "# Definición de la función montecarlo1\n",
    "def montecarlo1(f, a, b, N):\n",
    "    ui = np.random.uniform(a, b, N)\n",
    "    integral = ((b-a)/N)*np.sum(f(ui))\n",
    "    return integral\n",
    "\n",
    "# Definición de las funciones que vamos a integrar\n",
    "def f4(x):\n",
    "    return np.log10(2*x) + 8**x\n",
    "\n",
    "def f5(x):\n",
    "    return (2*x) / (x*4)\n",
    "\n",
    "# Definimos los limites de integracion\n",
    "a, b = 1, 5\n",
    "\n",
    "# Definimos cantidades de terminos\n",
    "N = np.logspace(1, 5, 5).astype(int)\n",
    "\n",
    "# Crear el DataFrame de pandas (tabla) que contendrá la información\n",
    "tabla3 = pd.DataFrame(index=N, columns=['Aprox f4', 'Aprox f5'])\n",
    "\n",
    "# Agregar nombre al índice para que aprezca en la tabla\n",
    "tabla3.index.name = 'Cantidad de términos'\n",
    "\n",
    "# Rellenar las celdas de la aproximación de cada función\n",
    "for n in N:\n",
    "    aprox_f4 = montecarlo1(f4, a, b, n)\n",
    "    aprox_f5 = montecarlo1(f5, a, b, n)\n",
    "    \n",
    "    tabla3.loc[n, 'Aprox f4'] = aprox_f4\n",
    "    tabla3.loc[n, 'Aprox f5'] = aprox_f5\n",
    "    \n",
    "tabla3"
   ]
  },
  {
   "cell_type": "code",
   "execution_count": null,
   "id": "b357bbbf",
   "metadata": {},
   "outputs": [],
   "source": []
  },
  {
   "cell_type": "code",
   "execution_count": null,
   "id": "d615c724",
   "metadata": {},
   "outputs": [],
   "source": []
  },
  {
   "cell_type": "code",
   "execution_count": null,
   "id": "21c58608",
   "metadata": {},
   "outputs": [],
   "source": []
  }
 ],
 "metadata": {
  "kernelspec": {
   "display_name": "Python 3 (ipykernel)",
   "language": "python",
   "name": "python3"
  },
  "language_info": {
   "codemirror_mode": {
    "name": "ipython",
    "version": 3
   },
   "file_extension": ".py",
   "mimetype": "text/x-python",
   "name": "python",
   "nbconvert_exporter": "python",
   "pygments_lexer": "ipython3",
   "version": "3.11.4"
  }
 },
 "nbformat": 4,
 "nbformat_minor": 5
}
